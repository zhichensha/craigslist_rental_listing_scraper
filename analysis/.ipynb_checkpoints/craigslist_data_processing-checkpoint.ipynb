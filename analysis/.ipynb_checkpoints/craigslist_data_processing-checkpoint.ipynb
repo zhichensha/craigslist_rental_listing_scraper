{
 "cells": [
  {
   "cell_type": "code",
   "execution_count": 1,
   "id": "79a25228",
   "metadata": {},
   "outputs": [],
   "source": [
    "import pandas as pd\n",
    "import glob\n",
    "import os\n",
    "import re\n",
    "import numpy as np\n",
    "import mysql.connector\n",
    "import sqlalchemy\n",
    "import matplotlib.pyplot as plt\n",
    "from datetime import datetime, timedelta\n",
    "wd = r'D:/workspace'\n",
    "creds = pd.read_csv(\"{}/craigslist_rent_project/credentials/credentials.csv\".format(wd))\n",
    "creds = creds.loc[creds['on_grid'] == False]\n",
    "host = creds.iloc[0]['host']\n",
    "port = str(creds.iloc[0]['port'])\n",
    "name = creds.iloc[0]['user_name']\n",
    "password = creds.iloc[0]['password']\n",
    "\n",
    "ENGINE = sqlalchemy.create_engine(url=\"mysql+pymysql://{0}:{1}@{2}:{3}/{4}\".format(name, password, host, port, \"craigslist\"))"
   ]
  },
  {
   "cell_type": "code",
   "execution_count": 2,
   "id": "c1348fa8",
   "metadata": {},
   "outputs": [],
   "source": [
    "def pre_process(df):\n",
    "    df = df.drop(['ip_proxy', 'scraped'], axis = 1)\n",
    "    df = df[df['descr'] != 'Content Removed or Delisted']\n",
    "    df['descr'] = df['descr'].astype(str)\n",
    "    df['tags'] = df['tag2'].astype(str) + ' ' +df['tag3'].astype(str)\n",
    "    df['last_updated_datetime_o'] = pd.to_datetime(df['last_updated_time_o'], errors='coerce')\n",
    "    df['last_updated_datetime'] = pd.to_datetime(df['last_updated_time'], utc=True).dt.tz_convert('US/Eastern').dt.tz_localize(None)\n",
    "    df['posted_datetime'] = pd.to_datetime(df['posted_time'], utc=True).dt.tz_convert('US/Eastern').dt.tz_localize(None)\n",
    "\n",
    "    # There are many instances with sharedBa or splitBa; I will consider them as 0 bathrooms\n",
    "    df['floor_plan'] = df['floor_plan'].str.replace('shared', '0')\n",
    "    df['floor_plan'] = df['floor_plan'].str.replace('split', '0')\n",
    "    # Split floor_plan into beds and baths, and also only keep numeric part of it\n",
    "    # Remove BR and Ba, as well + sign in baths, then convert them to float\n",
    "    df['beds'] = df['floor_plan'].str.split('/').str[0].str.replace('BR', '').str.strip().astype(float)\n",
    "    df['baths'] = df['floor_plan'].str.split('/').str[1].str.replace('Ba', '')\n",
    "    df['baths'] = df['baths'].str.replace('+', '').str.strip().astype(float)\n",
    "    \n",
    "    # Grab floor size information from tag1, and keep only observations with 'ft2' in it\n",
    "    # as it may contain information on other such as availability \n",
    "    df['sqft'] = df['tag1'].str.split('\\n').str[1]\n",
    "    df['sqft'] = df['sqft'].fillna('')\n",
    "    df['sqft'] = df.loc[df['sqft'].str.contains('ft2'), 'sqft']\n",
    "    df['sqft'] = df['sqft'].str.replace('ft2', '')\n",
    "    df['sqft'] = df['sqft'].astype(float)\n",
    "    return df"
   ]
  },
  {
   "cell_type": "code",
   "execution_count": 3,
   "id": "bd52765e",
   "metadata": {},
   "outputs": [],
   "source": [
    "def create_df(path):\n",
    "    df = pd.DataFrame()\n",
    "    count = 0\n",
    "    for folder in os.listdir(path):\n",
    "        dir_path = \"{}/{}/\".format(path, folder)\n",
    "        for file_name in glob.glob(dir_path+'*.csv'):\n",
    "            df_each = pd.read_csv(file_name)\n",
    "            #print(file_name)\n",
    "            df = pd.concat([df, df_each], ignore_index = True)\n",
    "            count += 1\n",
    "    return df"
   ]
  },
  {
   "cell_type": "code",
   "execution_count": 4,
   "id": "be0f1c05",
   "metadata": {},
   "outputs": [],
   "source": [
    "path_w1 = \"{}/craigslist_data/raw_data/2022-12-13/2022/12\".format(wd)\n",
    "path_w2 = \"{}/craigslist_data/raw_data/2022-12-20/2022/12\".format(wd)\n",
    "path_w3 = \"{}/craigslist_data/raw_data/2022-12-27/2022/12\".format(wd)\n",
    "path_w4 = \"{}/craigslist_data/raw_data/2023-1-3/2022/12\".format(wd)"
   ]
  },
  {
   "cell_type": "code",
   "execution_count": 5,
   "id": "d4ca0673",
   "metadata": {},
   "outputs": [],
   "source": [
    "def get_full_df(path, task_num):\n",
    "    df = create_df(path)\n",
    "    df = pre_process(df)\n",
    "    df_scraped_time = pd.read_sql(\"SELECT * FROM craigslist.scraped_time WHERE task_num = {};\".format(task_num), ENGINE)\n",
    "    df['sub_region'].fillna('', inplace=True)\n",
    "    df_scraped_time['sub_region'].fillna('', inplace=True)\n",
    "    df_scraped_time['task_num'] -= 6\n",
    "    df_scraped_time.rename(columns={'task_num':'week_num', 'scraped_date': 'scraped_datetime'}, inplace=True)\n",
    "    df = pd.merge(df, df_scraped_time, on = ['region', 'sub_region'], how = 'left')\n",
    "    df.drop(['id', 'posted_time', 'last_updated_time'], axis=1, inplace=True)\n",
    "    df = df.add_suffix('_week{}'.format(task_num - 6))\n",
    "    return df"
   ]
  },
  {
   "cell_type": "code",
   "execution_count": 6,
   "id": "1056d2be",
   "metadata": {},
   "outputs": [
    {
     "name": "stderr",
     "output_type": "stream",
     "text": [
      "C:\\Users\\Zhichen Sha\\AppData\\Local\\Temp\\ipykernel_19744\\1884231641.py:17: FutureWarning: The default value of regex will change from True to False in a future version. In addition, single character regular expressions will *not* be treated as literal strings when regex=True.\n",
      "  df['baths'] = df['baths'].str.replace('+', '').str.strip().astype(float)\n",
      "C:\\Users\\Zhichen Sha\\AppData\\Local\\Temp\\ipykernel_19744\\1884231641.py:17: FutureWarning: The default value of regex will change from True to False in a future version. In addition, single character regular expressions will *not* be treated as literal strings when regex=True.\n",
      "  df['baths'] = df['baths'].str.replace('+', '').str.strip().astype(float)\n",
      "C:\\Users\\Zhichen Sha\\AppData\\Local\\Temp\\ipykernel_19744\\1884231641.py:17: FutureWarning: The default value of regex will change from True to False in a future version. In addition, single character regular expressions will *not* be treated as literal strings when regex=True.\n",
      "  df['baths'] = df['baths'].str.replace('+', '').str.strip().astype(float)\n"
     ]
    }
   ],
   "source": [
    "df1 = get_full_df(path_w1, 7)\n",
    "df2 = get_full_df(path_w2, 8)\n",
    "df3 = get_full_df(path_w3, 9)\n",
    "# fix several price errors caused by\n",
    "df1.loc[df1['price_week1'] == df1['price_o_week1']*100, 'price_week1'] = df1.loc[df1['price_week1'] == df1['price_o_week1']*100, 'price_week1']/100 "
   ]
  },
  {
   "cell_type": "code",
   "execution_count": 7,
   "id": "2869d6c4",
   "metadata": {},
   "outputs": [],
   "source": [
    "## analyze df1 and df2\n",
    "df_12 = df = pd.merge(df1, df2, how = 'inner', left_on ='p_id_week1', right_on ='p_id_week2')"
   ]
  },
  {
   "cell_type": "code",
   "execution_count": 8,
   "id": "b3cb185e",
   "metadata": {},
   "outputs": [
    {
     "data": {
      "text/plain": [
       "Index(['price_week1', 'price_o_week1', 'title_week1', 'floor_plan_week1',\n",
       "       'floor_size_o_week1', 'beds_o_week1', 'url_week1', 'descr_week1',\n",
       "       'p_id_week1', 'last_updated_time_o_week1', 'map_week1', 'lat_week1',\n",
       "       'long_week1', 'tag1_week1', 'tag2_week1', 'tag3_week1', 'region_week1',\n",
       "       'sub_region_week1', 'tags_week1', 'last_updated_datetime_o_week1',\n",
       "       'last_updated_datetime_week1', 'posted_datetime_week1', 'beds_week1',\n",
       "       'baths_week1', 'sqft_week1', 'scraped_datetime_week1',\n",
       "       'week_num_week1'],\n",
       "      dtype='object')"
      ]
     },
     "execution_count": 8,
     "metadata": {},
     "output_type": "execute_result"
    }
   ],
   "source": [
    "df1.columns"
   ]
  },
  {
   "cell_type": "code",
   "execution_count": 18,
   "id": "beb258ab",
   "metadata": {},
   "outputs": [
    {
     "data": {
      "text/plain": [
       "(array([37451., 30707., 26607., 29349., 32922., 23738., 21026., 24726.,\n",
       "        24643., 18759., 12365., 15544., 12428., 11104., 12037., 12662.,\n",
       "         8776.,  9097.,  9759.,  8015.,  3876.,  2954.,  3110.,  2161.,\n",
       "         1757.,  1660.,  1700.,   830.,   934.,   882.,   844.,   503.,\n",
       "          668.,   630.,   363.,    78.]),\n",
       " array([2.00000000e+00, 2.74116667e+03, 5.48033333e+03, 8.21950000e+03,\n",
       "        1.09586667e+04, 1.36978333e+04, 1.64370000e+04, 1.91761667e+04,\n",
       "        2.19153333e+04, 2.46545000e+04, 2.73936667e+04, 3.01328333e+04,\n",
       "        3.28720000e+04, 3.56111667e+04, 3.83503333e+04, 4.10895000e+04,\n",
       "        4.38286667e+04, 4.65678333e+04, 4.93070000e+04, 5.20461667e+04,\n",
       "        5.47853333e+04, 5.75245000e+04, 6.02636667e+04, 6.30028333e+04,\n",
       "        6.57420000e+04, 6.84811667e+04, 7.12203333e+04, 7.39595000e+04,\n",
       "        7.66986667e+04, 7.94378333e+04, 8.21770000e+04, 8.49161667e+04,\n",
       "        8.76553333e+04, 9.03945000e+04, 9.31336667e+04, 9.58728333e+04,\n",
       "        9.86120000e+04]),\n",
       " <BarContainer object of 36 artists>)"
      ]
     },
     "execution_count": 18,
     "metadata": {},
     "output_type": "execute_result"
    },
    {
     "data": {
      "image/png": "[encoded data removed]",
      "text/plain": [
       "<Figure size 432x288 with 1 Axes>"
      ]
     },
     "metadata": {
      "needs_background": "light"
     },
     "output_type": "display_data"
    }
   ],
   "source": [
    "df_12['time_on_market_week1'] = (df_12['scraped_datetime_week1'] - df_12['posted_datetime_week1']).astype('timedelta64[m]')\n",
    "plt.hist(df_12['time_on_market_week1'], color = 'blue', edgecolor = 'black',\n",
    "         bins = int(180/5))"
   ]
  },
  {
   "cell_type": "code",
   "execution_count": 20,
   "id": "d780fa48",
   "metadata": {},
   "outputs": [
    {
     "data": {
      "text/plain": [
       "(array([26440., 35262., 25618., 26634., 34794., 26594., 20145., 24036.,\n",
       "        26905., 20785., 12186., 13878., 15058., 10320., 11360., 13647.,\n",
       "         9815.,  8096.,  9891.,  9057.,  4570.,  2752.,  3382.,  2435.,\n",
       "         1673.,  1542.,  1812.,  1052.,   774.,   903.,   929.,   486.,\n",
       "          681.,   651.,   415.,    87.]),\n",
       " array([  9217.        ,  11971.22222222,  14725.44444444,  17479.66666667,\n",
       "         20233.88888889,  22988.11111111,  25742.33333333,  28496.55555556,\n",
       "         31250.77777778,  34005.        ,  36759.22222222,  39513.44444444,\n",
       "         42267.66666667,  45021.88888889,  47776.11111111,  50530.33333333,\n",
       "         53284.55555556,  56038.77777778,  58793.        ,  61547.22222222,\n",
       "         64301.44444444,  67055.66666667,  69809.88888889,  72564.11111111,\n",
       "         75318.33333333,  78072.55555556,  80826.77777778,  83581.        ,\n",
       "         86335.22222222,  89089.44444444,  91843.66666667,  94597.88888889,\n",
       "         97352.11111111, 100106.33333333, 102860.55555556, 105614.77777778,\n",
       "        108369.        ]),\n",
       " <BarContainer object of 36 artists>)"
      ]
     },
     "execution_count": 20,
     "metadata": {},
     "output_type": "execute_result"
    },
    {
     "data": {
      "image/png": "[encoded data removed]",
      "text/plain": [
       "<Figure size 432x288 with 1 Axes>"
      ]
     },
     "metadata": {
      "needs_background": "light"
     },
     "output_type": "display_data"
    }
   ],
   "source": [
    "df_12['time_on_market_week2'] = (df_12['scraped_datetime_week2'] - df_12['posted_datetime_week2']).astype('timedelta64[m]')\n",
    "plt.hist(df_12['time_on_market_week2'], color = 'blue', edgecolor = 'black',\n",
    "         bins = int(180/5))"
   ]
  },
  {
   "cell_type": "code",
   "execution_count": 16,
   "id": "10cc9ea0",
   "metadata": {},
   "outputs": [
    {
     "data": {
      "text/plain": [
       "0          5746.0\n",
       "1         37698.0\n",
       "2         22792.0\n",
       "3         17189.0\n",
       "4         15853.0\n",
       "           ...   \n",
       "404660    24130.0\n",
       "404661     1044.0\n",
       "404662     7049.0\n",
       "404663      137.0\n",
       "404664      136.0\n",
       "Name: time_on_market_week1, Length: 404665, dtype: float64"
      ]
     },
     "execution_count": 16,
     "metadata": {},
     "output_type": "execute_result"
    }
   ],
   "source": [
    "df_12['time_on_market_week1']"
   ]
  },
  {
   "cell_type": "code",
   "execution_count": null,
   "id": "dba328a4",
   "metadata": {},
   "outputs": [],
   "source": [
    "(df_week1_with_time['scraped_date'] - df_week1_with_time['posted_datetime']).min()"
   ]
  },
  {
   "cell_type": "code",
   "execution_count": null,
   "id": "bc0ed514",
   "metadata": {},
   "outputs": [],
   "source": []
  }
 ],
 "metadata": {
  "kernelspec": {
   "display_name": "Python 3 (ipykernel)",
   "language": "python",
   "name": "python3"
  },
  "language_info": {
   "codemirror_mode": {
    "name": "ipython",
    "version": 3
   },
   "file_extension": ".py",
   "mimetype": "text/x-python",
   "name": "python",
   "nbconvert_exporter": "python",
   "pygments_lexer": "ipython3",
   "version": "3.9.12"
  }
 },
 "nbformat": 4,
 "nbformat_minor": 5
}
